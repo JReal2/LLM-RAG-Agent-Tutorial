{
  "nbformat": 4,
  "nbformat_minor": 0,
  "metadata": {
    "colab": {
      "provenance": [],
      "gpuType": "T4"
    },
    "kernelspec": {
      "name": "python3",
      "display_name": "Python 3"
    },
    "language_info": {
      "name": "python"
    },
    "accelerator": "GPU"
  },
  "cells": [
    {
      "cell_type": "code",
      "source": [
        "from google.colab import userdata\n",
        "key = userdata.get('hf-api')\n",
        "\n",
        "from huggingface_hub import login\n",
        "login(token=key)"
      ],
      "metadata": {
        "id": "0uoXJw7W9FD5"
      },
      "execution_count": 1,
      "outputs": []
    },
    {
      "cell_type": "code",
      "execution_count": null,
      "metadata": {
        "id": "NLIZb7Yl8rW1"
      },
      "outputs": [],
      "source": [
        "from transformers import pipeline\n",
        "\n",
        "question = \"How many programming languages does BLOOM support?\"\n",
        "context = \"BLOOM has 176 billion parameters and can generate text in 46 languages natural languages and 13 programming languages.\"\n",
        "\n",
        "question_answerer = pipeline(\"question-answering\", model=\"squad_qa_custom_model\")\n",
        "output = question_answerer(question=question, context=context)\n",
        "print(output)"
      ]
    }
  ]
}